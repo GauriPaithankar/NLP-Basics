{
 "cells": [
  {
   "cell_type": "code",
   "execution_count": 1,
   "id": "af2983ba",
   "metadata": {},
   "outputs": [],
   "source": [
    "import re"
   ]
  },
  {
   "cell_type": "code",
   "execution_count": 9,
   "id": "5cfa2553",
   "metadata": {},
   "outputs": [
    {
     "name": "stdout",
     "output_type": "stream",
     "text": [
      "['I', 'I']\n"
     ]
    }
   ],
   "source": [
    "string = \"My name is Gauri and I am Jungkook bias but I love my all hyungs equally.\"\n",
    "pattern = \"I\"\n",
    "\n",
    "m =re.findall (pattern, string)\n",
    "print (m)\n"
   ]
  },
  {
   "cell_type": "code",
   "execution_count": 11,
   "id": "46887ee0",
   "metadata": {},
   "outputs": [
    {
     "name": "stdout",
     "output_type": "stream",
     "text": [
      "<re.Match object; span=(0, 5), match='Tiger'>\n"
     ]
    }
   ],
   "source": [
    "string = \"Tiger is a national animal\"\n",
    "pattern = \"Tiger\"\n",
    "\n",
    "me = re.match (pattern, string)\n",
    "print(me)"
   ]
  },
  {
   "cell_type": "code",
   "execution_count": 12,
   "id": "bb100048",
   "metadata": {},
   "outputs": [
    {
     "name": "stdout",
     "output_type": "stream",
     "text": [
      "None\n"
     ]
    }
   ],
   "source": [
    "string = \"Tiger is a national animal\"\n",
    "pattern = \"lion\"\n",
    "\n",
    "me = re.match (pattern, string)\n",
    "print(me)"
   ]
  },
  {
   "cell_type": "code",
   "execution_count": 17,
   "id": "7e6fd8d1",
   "metadata": {},
   "outputs": [
    {
     "name": "stdout",
     "output_type": "stream",
     "text": [
      "11\n"
     ]
    }
   ],
   "source": [
    "string = \"Tiger is a national animal\"\n",
    "pattern = \"national\"\n",
    "me = re.finditer(pattern, string)\n",
    "for m in me:\n",
    "    print(m.start())"
   ]
  },
  {
   "cell_type": "code",
   "execution_count": 19,
   "id": "b209df13",
   "metadata": {},
   "outputs": [
    {
     "name": "stdout",
     "output_type": "stream",
     "text": [
      "['12-09-1992', '15-06-1996']\n"
     ]
    }
   ],
   "source": [
    "string = \"rob was born on 12-09-1992 and he was admitted in school in 15-06-1996.\"\n",
    "pattern = \"\\d{2}-\\d{2}-\\d{4}\"\n",
    "\n",
    "mo = re.findall(pattern, string)\n",
    "print(mo)"
   ]
  },
  {
   "cell_type": "code",
   "execution_count": 20,
   "id": "4087c113",
   "metadata": {},
   "outputs": [
    {
     "name": "stdout",
     "output_type": "stream",
     "text": [
      "rob was born on Monday and he was admitted in school in Monday.\n"
     ]
    }
   ],
   "source": [
    "print (re.sub(pattern, \"Monday\", string))"
   ]
  },
  {
   "cell_type": "markdown",
   "id": "0d42d1a4",
   "metadata": {},
   "source": [
    "### tokenization"
   ]
  },
  {
   "cell_type": "code",
   "execution_count": 26,
   "id": "9c362a57",
   "metadata": {},
   "outputs": [
    {
     "data": {
      "text/plain": [
       "['Majhi bongya.', 'Shidle bhadad.', 'I love you.']"
      ]
     },
     "execution_count": 26,
     "metadata": {},
     "output_type": "execute_result"
    }
   ],
   "source": [
    "from nltk.tokenize import sent_tokenize\n",
    "\n",
    "text = \"Majhi bongya. Shidle bhadad. I love you.\"\n",
    "\n",
    "sent_tokenize(text)"
   ]
  },
  {
   "cell_type": "code",
   "execution_count": 27,
   "id": "0febdf9d",
   "metadata": {},
   "outputs": [
    {
     "data": {
      "text/plain": [
       "['Majhi', 'bongya', '.', 'Shidle', 'bhadad', '.', 'I', 'love', 'you', '.']"
      ]
     },
     "execution_count": 27,
     "metadata": {},
     "output_type": "execute_result"
    }
   ],
   "source": [
    "from nltk.tokenize import word_tokenize\n",
    "\n",
    "text = \"Majhi bongya. Shidle bhadad. I love you.\"\n",
    "\n",
    "word_tokenize(text)"
   ]
  },
  {
   "cell_type": "markdown",
   "id": "03af4342",
   "metadata": {},
   "source": [
    "### stemming (normalization)"
   ]
  },
  {
   "cell_type": "code",
   "execution_count": 29,
   "id": "246c060c",
   "metadata": {},
   "outputs": [
    {
     "name": "stdout",
     "output_type": "stream",
     "text": [
      "virtual\n"
     ]
    }
   ],
   "source": [
    "from nltk.stem import PorterStemmer\n",
    "stemmer = PorterStemmer()\n",
    "print (stemmer.stem(\"virtualization\"))"
   ]
  },
  {
   "cell_type": "code",
   "execution_count": 35,
   "id": "20e41e9e",
   "metadata": {},
   "outputs": [
    {
     "name": "stdout",
     "output_type": "stream",
     "text": [
      "increase\n",
      "run\n"
     ]
    }
   ],
   "source": [
    "from nltk.stem import WordNetLemmatizer\n",
    "lem = WordNetLemmatizer()\n",
    "\n",
    "print(lem.lemmatize(\"increases\"))\n",
    "print(lem.lemmatize(\"running\", pos = \"v\"))"
   ]
  },
  {
   "cell_type": "code",
   "execution_count": 36,
   "id": "12f9c321",
   "metadata": {},
   "outputs": [
    {
     "data": {
      "text/plain": [
       "[('Hi', 'NNP'),\n",
       " ('Jon', 'NNP'),\n",
       " (',', ','),\n",
       " ('How', 'NNP'),\n",
       " ('are', 'VBP'),\n",
       " ('you', 'PRP'),\n",
       " ('doing', 'VBG'),\n",
       " ('?', '.'),\n",
       " ('I', 'PRP'),\n",
       " ('will', 'MD'),\n",
       " ('be', 'VB'),\n",
       " ('travelling', 'VBG'),\n",
       " ('tonight', 'NN'),\n",
       " ('.', '.')]"
      ]
     },
     "execution_count": 36,
     "metadata": {},
     "output_type": "execute_result"
    }
   ],
   "source": [
    "from nltk import pos_tag\n",
    "text = \"Hi Jon, How are you doing? I will be travelling tonight.\"\n",
    "\n",
    "tokens = word_tokenize(text)\n",
    "pos_tag(tokens)"
   ]
  },
  {
   "cell_type": "markdown",
   "id": "890ffa7b",
   "metadata": {},
   "source": [
    "### for getting synonyms"
   ]
  },
  {
   "cell_type": "code",
   "execution_count": 37,
   "id": "23c349e6",
   "metadata": {},
   "outputs": [
    {
     "data": {
      "text/plain": [
       "[Synset('good.n.01'),\n",
       " Synset('good.n.02'),\n",
       " Synset('good.n.03'),\n",
       " Synset('commodity.n.01'),\n",
       " Synset('good.a.01'),\n",
       " Synset('full.s.06'),\n",
       " Synset('good.a.03'),\n",
       " Synset('estimable.s.02'),\n",
       " Synset('beneficial.s.01'),\n",
       " Synset('good.s.06'),\n",
       " Synset('good.s.07'),\n",
       " Synset('adept.s.01'),\n",
       " Synset('good.s.09'),\n",
       " Synset('dear.s.02'),\n",
       " Synset('dependable.s.04'),\n",
       " Synset('good.s.12'),\n",
       " Synset('good.s.13'),\n",
       " Synset('effective.s.04'),\n",
       " Synset('good.s.15'),\n",
       " Synset('good.s.16'),\n",
       " Synset('good.s.17'),\n",
       " Synset('good.s.18'),\n",
       " Synset('good.s.19'),\n",
       " Synset('good.s.20'),\n",
       " Synset('good.s.21'),\n",
       " Synset('well.r.01'),\n",
       " Synset('thoroughly.r.02')]"
      ]
     },
     "execution_count": 37,
     "metadata": {},
     "output_type": "execute_result"
    }
   ],
   "source": [
    "from nltk.corpus import wordnet\n",
    "\n",
    "wordnet.synsets('good')"
   ]
  },
  {
   "cell_type": "code",
   "execution_count": 39,
   "id": "6a310b8b",
   "metadata": {},
   "outputs": [
    {
     "data": {
      "text/plain": [
       "[Synset('computer.n.01'), Synset('calculator.n.01')]"
      ]
     },
     "execution_count": 39,
     "metadata": {},
     "output_type": "execute_result"
    }
   ],
   "source": [
    "from nltk.corpus import wordnet\n",
    "\n",
    "wordnet.synsets('computer')"
   ]
  },
  {
   "cell_type": "code",
   "execution_count": 40,
   "id": "690b750b",
   "metadata": {},
   "outputs": [
    {
     "name": "stdout",
     "output_type": "stream",
     "text": [
      "('I', 'love')\n",
      "('love', 'to')\n",
      "('to', 'listen')\n",
      "('listen', 'music')\n",
      "('music', '.')\n"
     ]
    }
   ],
   "source": [
    "from nltk import ngrams\n",
    "from nltk.tokenize import sent_tokenize, word_tokenize\n",
    "\n",
    "sentence = \" I love to listen music.\"\n",
    "\n",
    "n = 2\n",
    "for gram in ngrams(word_tokenize(sentence), n):\n",
    "    print(gram)"
   ]
  },
  {
   "cell_type": "code",
   "execution_count": null,
   "id": "73ae01cf",
   "metadata": {},
   "outputs": [],
   "source": []
  }
 ],
 "metadata": {
  "kernelspec": {
   "display_name": "Python 3 (ipykernel)",
   "language": "python",
   "name": "python3"
  },
  "language_info": {
   "codemirror_mode": {
    "name": "ipython",
    "version": 3
   },
   "file_extension": ".py",
   "mimetype": "text/x-python",
   "name": "python",
   "nbconvert_exporter": "python",
   "pygments_lexer": "ipython3",
   "version": "3.11.5"
  }
 },
 "nbformat": 4,
 "nbformat_minor": 5
}
